{
 "cells": [
  {
   "cell_type": "code",
   "execution_count": 1,
   "metadata": {},
   "outputs": [],
   "source": [
    "import os"
   ]
  },
  {
   "cell_type": "code",
   "execution_count": 2,
   "metadata": {},
   "outputs": [],
   "source": [
    "os.makedirs('artifacts', exist_ok=True)"
   ]
  },
  {
   "cell_type": "code",
   "execution_count": 3,
   "metadata": {},
   "outputs": [],
   "source": [
    "os.makedirs('artifacts\\data', exist_ok=True)"
   ]
  },
  {
   "cell_type": "code",
   "execution_count": 4,
   "metadata": {},
   "outputs": [],
   "source": [
    "import pandas as pd\n",
    "import numpy as np\n",
    "import seaborn as sns\n",
    "import tensorflow as tf\n",
    "from tensorflow.keras.preprocessing.text import Tokenizer\n",
    "from tensorflow.keras.preprocessing.sequence import pad_sequences\n",
    "from tensorflow.keras.models import Sequential\n",
    "from tensorflow.keras.layers import Embedding,Dense,SimpleRNN\n",
    "from sklearn.model_selection import train_test_split\n"
   ]
  },
  {
   "cell_type": "code",
   "execution_count": 5,
   "metadata": {},
   "outputs": [],
   "source": [
    "df = pd.read_csv('artifacts/data/fake_and_real_news.csv')"
   ]
  },
  {
   "cell_type": "code",
   "execution_count": 6,
   "metadata": {},
   "outputs": [
    {
     "data": {
      "text/html": [
       "<div>\n",
       "<style scoped>\n",
       "    .dataframe tbody tr th:only-of-type {\n",
       "        vertical-align: middle;\n",
       "    }\n",
       "\n",
       "    .dataframe tbody tr th {\n",
       "        vertical-align: top;\n",
       "    }\n",
       "\n",
       "    .dataframe thead th {\n",
       "        text-align: right;\n",
       "    }\n",
       "</style>\n",
       "<table border=\"1\" class=\"dataframe\">\n",
       "  <thead>\n",
       "    <tr style=\"text-align: right;\">\n",
       "      <th></th>\n",
       "      <th>Text</th>\n",
       "      <th>label</th>\n",
       "    </tr>\n",
       "  </thead>\n",
       "  <tbody>\n",
       "    <tr>\n",
       "      <th>0</th>\n",
       "      <td>Top Trump Surrogate BRUTALLY Stabs Him In The...</td>\n",
       "      <td>Fake</td>\n",
       "    </tr>\n",
       "    <tr>\n",
       "      <th>1</th>\n",
       "      <td>U.S. conservative leader optimistic of common ...</td>\n",
       "      <td>Real</td>\n",
       "    </tr>\n",
       "    <tr>\n",
       "      <th>2</th>\n",
       "      <td>Trump proposes U.S. tax overhaul, stirs concer...</td>\n",
       "      <td>Real</td>\n",
       "    </tr>\n",
       "    <tr>\n",
       "      <th>3</th>\n",
       "      <td>Court Forces Ohio To Allow Millions Of Illega...</td>\n",
       "      <td>Fake</td>\n",
       "    </tr>\n",
       "    <tr>\n",
       "      <th>4</th>\n",
       "      <td>Democrats say Trump agrees to work on immigrat...</td>\n",
       "      <td>Real</td>\n",
       "    </tr>\n",
       "    <tr>\n",
       "      <th>...</th>\n",
       "      <td>...</td>\n",
       "      <td>...</td>\n",
       "    </tr>\n",
       "    <tr>\n",
       "      <th>9895</th>\n",
       "      <td>Wikileaks Admits To Screwing Up IMMENSELY Wit...</td>\n",
       "      <td>Fake</td>\n",
       "    </tr>\n",
       "    <tr>\n",
       "      <th>9896</th>\n",
       "      <td>Trump consults Republican senators on Fed chie...</td>\n",
       "      <td>Real</td>\n",
       "    </tr>\n",
       "    <tr>\n",
       "      <th>9897</th>\n",
       "      <td>Trump lawyers say judge lacks jurisdiction for...</td>\n",
       "      <td>Real</td>\n",
       "    </tr>\n",
       "    <tr>\n",
       "      <th>9898</th>\n",
       "      <td>WATCH: Right-Wing Pastor Falsely Credits Trum...</td>\n",
       "      <td>Fake</td>\n",
       "    </tr>\n",
       "    <tr>\n",
       "      <th>9899</th>\n",
       "      <td>Sean Spicer HILARIOUSLY Branded As Chickensh*...</td>\n",
       "      <td>Fake</td>\n",
       "    </tr>\n",
       "  </tbody>\n",
       "</table>\n",
       "<p>9900 rows × 2 columns</p>\n",
       "</div>"
      ],
      "text/plain": [
       "                                                   Text label\n",
       "0      Top Trump Surrogate BRUTALLY Stabs Him In The...  Fake\n",
       "1     U.S. conservative leader optimistic of common ...  Real\n",
       "2     Trump proposes U.S. tax overhaul, stirs concer...  Real\n",
       "3      Court Forces Ohio To Allow Millions Of Illega...  Fake\n",
       "4     Democrats say Trump agrees to work on immigrat...  Real\n",
       "...                                                 ...   ...\n",
       "9895   Wikileaks Admits To Screwing Up IMMENSELY Wit...  Fake\n",
       "9896  Trump consults Republican senators on Fed chie...  Real\n",
       "9897  Trump lawyers say judge lacks jurisdiction for...  Real\n",
       "9898   WATCH: Right-Wing Pastor Falsely Credits Trum...  Fake\n",
       "9899   Sean Spicer HILARIOUSLY Branded As Chickensh*...  Fake\n",
       "\n",
       "[9900 rows x 2 columns]"
      ]
     },
     "execution_count": 6,
     "metadata": {},
     "output_type": "execute_result"
    }
   ],
   "source": [
    "df"
   ]
  },
  {
   "cell_type": "code",
   "execution_count": 48,
   "metadata": {},
   "outputs": [
    {
     "data": {
      "text/plain": [
       "'Trump proposes U.S. tax overhaul, stirs concerns on deficit WASHINGTON (Reuters) - President Donald Trump proposed on Wednesday the biggest U.S. tax overhaul in three decades, calling for tax cuts for most Americans, but prompting criticism that the plan favors business and the rich and could add trillions of dollars to the deficit. The proposal drew a swift, skeptical response from Senator Bob Corker, a leading Republican “fiscal hawk,” who vowed not to vote for any federal tax package financed with borrowed money. “What I can tell you is that I’m not about to vote for any bill that increases our deficit, period,” Corker, who said on Tuesday he would not seek re-election in 2018, told reporters. Trump said his tax plan was aimed at helping working people, creating jobs and making the tax code simpler and fairer. But it faces an uphill battle in the U.S. Congress with Trump’s own Republican Party divided over it and Democrats hostile. The plan would lower corporate and small-business income tax rates, reduce the top income tax rate for high-earning American individuals and scrap some popular tax breaks, including one that benefits people in high-tax states dominated by Democrats. Forged during months of talks among Trump’s aides and top congressional Republicans, the plan contained few details on how to pay for the tax cuts without expanding the budget deficit and adding to the nation’s $20 trillion national debt. The plan still must be turned into legislation, which was not expected until after Congress makes progress on the fiscal 2018 budget, perhaps in October. It must then be debated by the Republican-led congressional tax-writing committees. Analysts were skeptical that Congress could approve a tax bill this year, but that is what Republicans hope to achieve so they can enter next year’s congressional election campaigns with at least one legislative achievement to show for 2017. Financial markets rallied on the plan’s unveiling, an event long anticipated by traders betting that stocks would benefit from both faster economic growth and inflation. At an event in Indianapolis, Trump called the plan the largest tax cut in U.S. history. “We want tax reform that is pro-growth, pro-jobs, pro-worker, pro-family and, yes, tax reform that is pro-American,” he said. The real estate mogul-turned-politician, who promised big tax cuts as a candidate, told reporters he personally would not gain financially from the proposal. “I think there’s very little benefit for people of wealth,” said Trump, who unlike many of his White House predecessors, has refused to make public his own tax returns. Republicans have produced no major legislative successes since Trump took office in January, even though they control the White House and both chambers of Congress. Their top legislative priority, overhauling the U.S. healthcare system, collapsed again in the Senate on Tuesday. A comprehensive rewrite of the U.S. tax code has eluded previous presidents and Congress for decades. The last one was passed in 1986 under Republican President Ronald Reagan. Trump’s plan falls short of the sweeping, bipartisan package crafted by Reagan and congressional Democrats, analysts said. The White House said that, under the proposal, typical middle-class families would have less income subject to federal tax. Trump said the first $12,000 earned by an individual and the first $24,000 by a married couple would be tax-free. The plan would lower the top individual tax rate, paid by the nation’s top earners, to 35 percent from 39.6 percent. It would lower the top corporate income tax rate to 20 percent from the current 35 percent. The existing rate is high globally, but many U.S.-based multinationals pay much less than the headline rate because of abundant loopholes and tax breaks. Trump has appealed to Democrats to back the plan, although they were not consulted in drafting it. Republicans hold a thin 52-48 Senate majority and may need some Democratic support to win passage. But Democrats said the plan would expand the federal deficit in order to deliver tax cuts to wealthy Americans rather than the middle-class families that Trump and Republicans say they are trying to help.  “If this framework is all about the middle class, then Trump Tower is middle-class housing,” said Senator Ron Wyden, the top Democrat on the tax law-writing Senate Finance Committee.      Republican Kevin Brady, chairman of the tax-writing House of Representatives Ways and Means Committee, said he expected tax legislation to be passed by the end of this year. The Committee for a Responsible Federal Budget, a Washington-based policy group, estimated on Wednesday the plan contained about $5.8 trillion of total tax cuts over a decade and would have a net cost of $2.2 trillion through 2027. Analysts have warned huge tax cuts would balloon the deficit if economic growth projected by Republicans to offset the costs fails to materialize amid rising interest rates. ‘PASS-THROUGH’ RATE The plan would set a new 25 percent tax rate for “pass-through” businesses, which are usually small, private enterprises, such as partnerships and sole proprietorships. They represent about 95 percent of all U.S. businesses. Under current law, the profits of those companies “pass through” directly to their owners and are taxed as personal income, often at the top 39.6 percent individual income rate. Cutting that to 25 percent could mean big tax savings for small-business owners, but also be vulnerable to abuse by other individuals and companies, analysts said. Republicans proposed eliminating some tax deductions. They did not target the popular ones for mortgage interest and charitable giving, but called for scrapping the one for state and local tax payments. That could especially hurt people in high-tax states like California and New York. In a step to simplify tax returns, the plan would shrink the current seven tax brackets to three: 12 percent, 25 percent and 35 percent. That would raise the bottom tax rate on low-earning Americans to 12 percent from 10 percent, but analysts said other parts of the plan would still mean a net tax cut. '"
      ]
     },
     "execution_count": 48,
     "metadata": {},
     "output_type": "execute_result"
    }
   ],
   "source": [
    "df[df['label']== 1]['Text'][2]"
   ]
  },
  {
   "cell_type": "code",
   "execution_count": 45,
   "metadata": {},
   "outputs": [
    {
     "data": {
      "text/plain": [
       "' Top Trump Surrogate BRUTALLY Stabs Him In The Back: ‘He’s Pathetic’ (VIDEO) It s looking as though Republican presidential candidate Donald Trump is losing support even from within his own ranks. You know things are getting bad when even your top surrogates start turning against you, which is exactly what just happened on Fox News when Newt Gingrich called Trump  pathetic. Gingrich knows that Trump needs to keep his focus on Hillary Clinton if he even remotely wants to have a chance at defeating her. However, Trump has hurt feelings because many Republicans don t support his sexual assault against women have turned against him, including House Speaker Paul Ryan (R-WI). So, that has made Trump lash out as his own party.Gingrich said on Fox News: Look, first of all, let me just say about Trump, who I admire and I ve tried to help as much as I can. There s a big Trump and a little Trump. The little Trump is frankly pathetic. I mean, he s mad over not getting a phone call? Trump s referring to the fact that Paul Ryan didn t call to congratulate him after the debate. Probably because he didn t win despite what Trump s ego tells him.Gingrich also added: Donald Trump has one opponent. Her name is Hillary Clinton. Her name is not Paul Ryan. It s not anybody else. Trump doesn t seem to realize that the person he should be mad at is himself because he truly is his own worst enemy. This will ultimately lead to his defeat and he will have no one to blame but himself.Watch here via Politico:Featured Photo by Joe Raedle/Getty Images'"
      ]
     },
     "execution_count": 45,
     "metadata": {},
     "output_type": "execute_result"
    }
   ],
   "source": [
    "df[df['label']== 0 ]['Text'][0]"
   ]
  },
  {
   "cell_type": "code",
   "execution_count": 7,
   "metadata": {},
   "outputs": [
    {
     "data": {
      "text/plain": [
       "(9900, 2)"
      ]
     },
     "execution_count": 7,
     "metadata": {},
     "output_type": "execute_result"
    }
   ],
   "source": [
    "df.shape"
   ]
  },
  {
   "cell_type": "code",
   "execution_count": 8,
   "metadata": {},
   "outputs": [
    {
     "data": {
      "text/plain": [
       "Text     0\n",
       "label    0\n",
       "dtype: int64"
      ]
     },
     "execution_count": 8,
     "metadata": {},
     "output_type": "execute_result"
    }
   ],
   "source": [
    "df.isna().sum()"
   ]
  },
  {
   "cell_type": "code",
   "execution_count": 41,
   "metadata": {},
   "outputs": [
    {
     "data": {
      "text/plain": [
       "label\n",
       "0    5000\n",
       "1    4900\n",
       "Name: count, dtype: int64"
      ]
     },
     "execution_count": 41,
     "metadata": {},
     "output_type": "execute_result"
    }
   ],
   "source": [
    "df['label'].value_counts()"
   ]
  },
  {
   "cell_type": "code",
   "execution_count": 9,
   "metadata": {},
   "outputs": [
    {
     "data": {
      "text/plain": [
       "<Axes: xlabel='label', ylabel='count'>"
      ]
     },
     "execution_count": 9,
     "metadata": {},
     "output_type": "execute_result"
    },
    {
     "data": {
      "image/png": "[encoded data removed]",
      "text/plain": [
       "<Figure size 640x480 with 1 Axes>"
      ]
     },
     "metadata": {},
     "output_type": "display_data"
    }
   ],
   "source": [
    "sns.countplot(x = df['label'])"
   ]
  },
  {
   "cell_type": "code",
   "execution_count": 10,
   "metadata": {},
   "outputs": [],
   "source": [
    "df['label'] = df['label'].apply(lambda x: 0 if x == 'Fake' else 1)"
   ]
  },
  {
   "cell_type": "code",
   "execution_count": 11,
   "metadata": {},
   "outputs": [
    {
     "data": {
      "text/plain": [
       "0       0\n",
       "1       1\n",
       "2       1\n",
       "3       0\n",
       "4       1\n",
       "       ..\n",
       "9895    0\n",
       "9896    1\n",
       "9897    1\n",
       "9898    0\n",
       "9899    0\n",
       "Name: label, Length: 9900, dtype: int64"
      ]
     },
     "execution_count": 11,
     "metadata": {},
     "output_type": "execute_result"
    }
   ],
   "source": [
    "df['label']"
   ]
  },
  {
   "cell_type": "code",
   "execution_count": 12,
   "metadata": {},
   "outputs": [],
   "source": [
    "def preprocess_data(df):\n",
    "    tokenizer = Tokenizer()\n",
    "    tokenizer.fit_on_texts(df['Text'])\n",
    "    sequences = tokenizer.texts_to_sequences(df['Text']) \n",
    "    padded_sequences = pad_sequences(sequences, maxlen=500)\n",
    "    return padded_sequences, df['label'].values, tokenizer\n"
   ]
  },
  {
   "cell_type": "code",
   "execution_count": 13,
   "metadata": {},
   "outputs": [],
   "source": [
    "x,y,tokenizer = preprocess_data(df)"
   ]
  },
  {
   "cell_type": "code",
   "execution_count": 14,
   "metadata": {},
   "outputs": [],
   "source": [
    "vocab_size = len(tokenizer.word_index)+1"
   ]
  },
  {
   "cell_type": "code",
   "execution_count": 15,
   "metadata": {},
   "outputs": [
    {
     "data": {
      "text/plain": [
       "<keras.src.preprocessing.text.Tokenizer at 0x21e89506940>"
      ]
     },
     "execution_count": 15,
     "metadata": {},
     "output_type": "execute_result"
    }
   ],
   "source": [
    "tokenizer"
   ]
  },
  {
   "cell_type": "code",
   "execution_count": 16,
   "metadata": {},
   "outputs": [
    {
     "data": {
      "text/plain": [
       "(9900, 500)"
      ]
     },
     "execution_count": 16,
     "metadata": {},
     "output_type": "execute_result"
    }
   ],
   "source": [
    "x.shape"
   ]
  },
  {
   "cell_type": "code",
   "execution_count": 17,
   "metadata": {},
   "outputs": [
    {
     "data": {
      "text/plain": [
       "9900"
      ]
     },
     "execution_count": 17,
     "metadata": {},
     "output_type": "execute_result"
    }
   ],
   "source": [
    "y.shape[0]"
   ]
  },
  {
   "cell_type": "code",
   "execution_count": 18,
   "metadata": {},
   "outputs": [],
   "source": [
    "x_train,x_test,y_train,y_test = train_test_split(x,y,test_size=0.33,random_state=42)"
   ]
  },
  {
   "cell_type": "code",
   "execution_count": 19,
   "metadata": {},
   "outputs": [
    {
     "data": {
      "text/plain": [
       "((6633, 500), (3267, 500))"
      ]
     },
     "execution_count": 19,
     "metadata": {},
     "output_type": "execute_result"
    }
   ],
   "source": [
    "x_train.shape,x_test.shape"
   ]
  },
  {
   "cell_type": "code",
   "execution_count": 20,
   "metadata": {},
   "outputs": [
    {
     "data": {
      "text/plain": [
       "((6633,), (3267,))"
      ]
     },
     "execution_count": 20,
     "metadata": {},
     "output_type": "execute_result"
    }
   ],
   "source": [
    "y_train.shape,y_test.shape"
   ]
  },
  {
   "cell_type": "code",
   "execution_count": 21,
   "metadata": {},
   "outputs": [
    {
     "data": {
      "text/plain": [
       "array([0, 1, 1, ..., 1, 1, 0], dtype=int64)"
      ]
     },
     "execution_count": 21,
     "metadata": {},
     "output_type": "execute_result"
    }
   ],
   "source": [
    "y_test"
   ]
  },
  {
   "cell_type": "code",
   "execution_count": 22,
   "metadata": {},
   "outputs": [],
   "source": [
    "from tensorflow.keras.losses import BinaryCrossentropy\n",
    "loss = BinaryCrossentropy()"
   ]
  },
  {
   "cell_type": "code",
   "execution_count": 23,
   "metadata": {},
   "outputs": [],
   "source": [
    "\n",
    "model = Sequential()\n",
    "model.add(Embedding(input_dim=vocab_size,output_dim=32,input_length=500))\n",
    "model.add(SimpleRNN(100,activation='relu',return_sequences=True))\n",
    "model.add(SimpleRNN(32, activation='relu'))\n",
    "model.add(Dense(1,activation='sigmoid'))\n",
    "\n",
    "model.compile(optimizer='adam', loss=loss, metrics=['accuracy'])"
   ]
  },
  {
   "cell_type": "code",
   "execution_count": 24,
   "metadata": {},
   "outputs": [
    {
     "name": "stdout",
     "output_type": "stream",
     "text": [
      "Model: \"sequential\"\n",
      "_________________________________________________________________\n",
      " Layer (type)                Output Shape              Param #   \n",
      "=================================================================\n",
      " embedding (Embedding)       (None, 500, 32)           2203744   \n",
      "                                                                 \n",
      " simple_rnn (SimpleRNN)      (None, 500, 100)          13300     \n",
      "                                                                 \n",
      " simple_rnn_1 (SimpleRNN)    (None, 32)                4256      \n",
      "                                                                 \n",
      " dense (Dense)               (None, 1)                 33        \n",
      "                                                                 \n",
      "=================================================================\n",
      "Total params: 2221333 (8.47 MB)\n",
      "Trainable params: 2221333 (8.47 MB)\n",
      "Non-trainable params: 0 (0.00 Byte)\n",
      "_________________________________________________________________\n"
     ]
    }
   ],
   "source": [
    "model.summary()"
   ]
  },
  {
   "cell_type": "code",
   "execution_count": 25,
   "metadata": {},
   "outputs": [],
   "source": [
    "from tensorflow.keras.callbacks import EarlyStopping"
   ]
  },
  {
   "cell_type": "code",
   "execution_count": 26,
   "metadata": {},
   "outputs": [
    {
     "data": {
      "text/plain": [
       "<keras.src.callbacks.EarlyStopping at 0x21e8da8d250>"
      ]
     },
     "execution_count": 26,
     "metadata": {},
     "output_type": "execute_result"
    }
   ],
   "source": [
    "earlystopping = EarlyStopping(monitor='val_loss',patience=4,restore_best_weights=True)\n",
    "earlystopping"
   ]
  },
  {
   "cell_type": "code",
   "execution_count": 27,
   "metadata": {},
   "outputs": [
    {
     "name": "stdout",
     "output_type": "stream",
     "text": [
      "Epoch 1/10\n",
      "208/208 [==============================] - 33s 154ms/step - loss: 0.1178 - accuracy: 0.9623 - val_loss: 0.0200 - val_accuracy: 0.9945\n",
      "Epoch 2/10\n",
      "208/208 [==============================] - 32s 153ms/step - loss: 0.0056 - accuracy: 0.9985 - val_loss: 0.0154 - val_accuracy: 0.9963\n",
      "Epoch 3/10\n",
      "208/208 [==============================] - 32s 152ms/step - loss: 7.9743e-04 - accuracy: 1.0000 - val_loss: 21521.1230 - val_accuracy: 0.9972\n",
      "Epoch 4/10\n",
      "208/208 [==============================] - 31s 151ms/step - loss: 5.4406 - accuracy: 0.9849 - val_loss: 0.5481 - val_accuracy: 0.8815\n",
      "Epoch 5/10\n",
      "208/208 [==============================] - 33s 156ms/step - loss: 36943.7305 - accuracy: 0.9160 - val_loss: 5.9755 - val_accuracy: 0.5112\n",
      "Epoch 6/10\n",
      "208/208 [==============================] - 33s 157ms/step - loss: 0.3424 - accuracy: 0.9409 - val_loss: 0.0445 - val_accuracy: 0.9896\n"
     ]
    }
   ],
   "source": [
    "history = model.fit(\n",
    "    x_train, y_train,\n",
    "    epochs = 10,\n",
    "    batch_size = 32,\n",
    "    validation_data=(x_test, y_test),\n",
    "    callbacks=[earlystopping]\n",
    ")"
   ]
  },
  {
   "cell_type": "code",
   "execution_count": 28,
   "metadata": {},
   "outputs": [
    {
     "name": "stderr",
     "output_type": "stream",
     "text": [
      "d:\\RNN-LSTM_RNN-GRU\\even\\lib\\site-packages\\keras\\src\\engine\\training.py:3000: UserWarning: You are saving your model as an HDF5 file via `model.save()`. This file format is considered legacy. We recommend using instead the native Keras format, e.g. `model.save('my_model.keras')`.\n",
      "  saving_api.save_model(\n"
     ]
    }
   ],
   "source": [
    "# Save Model\n",
    "\n",
    "model.save('SimpleRNN.h5')"
   ]
  },
  {
   "cell_type": "code",
   "execution_count": 29,
   "metadata": {},
   "outputs": [
    {
     "name": "stdout",
     "output_type": "stream",
     "text": [
      "103/103 [==============================] - 4s 32ms/step\n"
     ]
    }
   ],
   "source": [
    "pred = model.predict(x_test)"
   ]
  },
  {
   "cell_type": "code",
   "execution_count": 30,
   "metadata": {},
   "outputs": [],
   "source": [
    "prediction_proba = pred[0][0]"
   ]
  },
  {
   "cell_type": "code",
   "execution_count": 31,
   "metadata": {},
   "outputs": [
    {
     "name": "stdout",
     "output_type": "stream",
     "text": [
      "Real_News\n"
     ]
    }
   ],
   "source": [
    "if prediction_proba > 0.5:\n",
    "    print('Fake_News')\n",
    "else:\n",
    "    print('Real_News')"
   ]
  },
  {
   "cell_type": "code",
   "execution_count": 32,
   "metadata": {},
   "outputs": [
    {
     "data": {
      "text/plain": [
       "8.618206e-08"
      ]
     },
     "execution_count": 32,
     "metadata": {},
     "output_type": "execute_result"
    }
   ],
   "source": [
    "pred[0][0]"
   ]
  },
  {
   "cell_type": "code",
   "execution_count": 37,
   "metadata": {},
   "outputs": [
    {
     "data": {
      "text/plain": [
       "array([[8.618206e-08],\n",
       "       [9.976351e-01],\n",
       "       [9.970339e-01],\n",
       "       ...,\n",
       "       [9.995723e-01],\n",
       "       [9.990155e-01],\n",
       "       [1.552889e-07]], dtype=float32)"
      ]
     },
     "execution_count": 37,
     "metadata": {},
     "output_type": "execute_result"
    }
   ],
   "source": [
    "pred"
   ]
  },
  {
   "cell_type": "code",
   "execution_count": null,
   "metadata": {},
   "outputs": [],
   "source": []
  },
  {
   "cell_type": "code",
   "execution_count": null,
   "metadata": {},
   "outputs": [],
   "source": []
  }
 ],
 "metadata": {
  "kernelspec": {
   "display_name": "Python 3",
   "language": "python",
   "name": "python3"
  },
  "language_info": {
   "codemirror_mode": {
    "name": "ipython",
    "version": 3
   },
   "file_extension": ".py",
   "mimetype": "text/x-python",
   "name": "python",
   "nbconvert_exporter": "python",
   "pygments_lexer": "ipython3",
   "version": "3.8.0"
  }
 },
 "nbformat": 4,
 "nbformat_minor": 2
}
